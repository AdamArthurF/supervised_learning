{
 "cells": [
  {
   "cell_type": "markdown",
   "id": "34db0c44",
   "metadata": {},
   "source": [
    "# Tutorial Python"
   ]
  },
  {
   "cell_type": "markdown",
   "id": "83937784",
   "metadata": {},
   "source": [
    "## Print"
   ]
  },
  {
   "cell_type": "code",
   "execution_count": 50,
   "id": "13dbd4f9",
   "metadata": {},
   "outputs": [
    {
     "name": "stdout",
     "output_type": "stream",
     "text": [
      "Halo, nama saya Adam, biasa dipanggil Arthur\n"
     ]
    }
   ],
   "source": [
    "print(\"Halo, nama saya Adam, biasa dipanggil Arthur\")"
   ]
  },
  {
   "cell_type": "code",
   "execution_count": 2,
   "id": "989009d9",
   "metadata": {},
   "outputs": [
    {
     "name": "stdout",
     "output_type": "stream",
     "text": [
      "Halo, nama saya Adam, biasa dipanggil Arthur\n"
     ]
    }
   ],
   "source": [
    "print('Halo, nama saya Adam, biasa dipanggil Arthur')"
   ]
  },
  {
   "cell_type": "code",
   "execution_count": 3,
   "id": "6adf099f",
   "metadata": {},
   "outputs": [
    {
     "name": "stdout",
     "output_type": "stream",
     "text": [
      "Halo, nama saya Adam, biasa dipanggil Arthur\n"
     ]
    }
   ],
   "source": [
    "print(\"\"\"Halo, nama saya Adam, biasa dipanggil Arthur\"\"\")"
   ]
  },
  {
   "cell_type": "code",
   "execution_count": 4,
   "id": "c33345cc",
   "metadata": {},
   "outputs": [
    {
     "name": "stdout",
     "output_type": "stream",
     "text": [
      "Halo, nama saya Adam, biasa dipanggil Arthur\n"
     ]
    }
   ],
   "source": [
    "print('''Halo, nama saya Adam, biasa dipanggil Arthur''')"
   ]
  },
  {
   "cell_type": "markdown",
   "id": "bae50427",
   "metadata": {},
   "source": [
    "## Variable"
   ]
  },
  {
   "cell_type": "code",
   "execution_count": 5,
   "id": "0118c85d",
   "metadata": {},
   "outputs": [],
   "source": [
    "a = 2"
   ]
  },
  {
   "cell_type": "code",
   "execution_count": 6,
   "id": "bd37f139",
   "metadata": {},
   "outputs": [
    {
     "data": {
      "text/plain": [
       "2"
      ]
     },
     "execution_count": 6,
     "metadata": {},
     "output_type": "execute_result"
    }
   ],
   "source": [
    "a"
   ]
  },
  {
   "cell_type": "code",
   "execution_count": 7,
   "id": "719fec6f",
   "metadata": {},
   "outputs": [],
   "source": [
    "a, b = 3, 4"
   ]
  },
  {
   "cell_type": "code",
   "execution_count": 8,
   "id": "5b450686",
   "metadata": {},
   "outputs": [
    {
     "data": {
      "text/plain": [
       "3"
      ]
     },
     "execution_count": 8,
     "metadata": {},
     "output_type": "execute_result"
    }
   ],
   "source": [
    "a"
   ]
  },
  {
   "cell_type": "code",
   "execution_count": 9,
   "id": "f81319bb",
   "metadata": {},
   "outputs": [
    {
     "data": {
      "text/plain": [
       "4"
      ]
     },
     "execution_count": 9,
     "metadata": {},
     "output_type": "execute_result"
    }
   ],
   "source": [
    "b"
   ]
  },
  {
   "cell_type": "code",
   "execution_count": 10,
   "id": "618f305a",
   "metadata": {},
   "outputs": [],
   "source": [
    "a, b, c = 6, 8, 10"
   ]
  },
  {
   "cell_type": "code",
   "execution_count": 11,
   "id": "4127166e",
   "metadata": {},
   "outputs": [
    {
     "data": {
      "text/plain": [
       "6"
      ]
     },
     "execution_count": 11,
     "metadata": {},
     "output_type": "execute_result"
    }
   ],
   "source": [
    "a"
   ]
  },
  {
   "cell_type": "code",
   "execution_count": 12,
   "id": "6318a36b",
   "metadata": {},
   "outputs": [
    {
     "data": {
      "text/plain": [
       "8"
      ]
     },
     "execution_count": 12,
     "metadata": {},
     "output_type": "execute_result"
    }
   ],
   "source": [
    "b"
   ]
  },
  {
   "cell_type": "code",
   "execution_count": 13,
   "id": "c90464ec",
   "metadata": {},
   "outputs": [
    {
     "data": {
      "text/plain": [
       "10"
      ]
     },
     "execution_count": 13,
     "metadata": {},
     "output_type": "execute_result"
    }
   ],
   "source": [
    "c"
   ]
  },
  {
   "cell_type": "code",
   "execution_count": 14,
   "id": "5a9cc2e5",
   "metadata": {},
   "outputs": [
    {
     "data": {
      "text/plain": [
       "(6, 8, 10)"
      ]
     },
     "execution_count": 14,
     "metadata": {},
     "output_type": "execute_result"
    }
   ],
   "source": [
    "a, b, c"
   ]
  },
  {
   "cell_type": "markdown",
   "id": "1ad31ff1",
   "metadata": {},
   "source": [
    "## List"
   ]
  },
  {
   "cell_type": "code",
   "execution_count": 15,
   "id": "7f1546ca",
   "metadata": {},
   "outputs": [],
   "source": [
    "a = [1, 2, 3, 'empat', 'lima', True]"
   ]
  },
  {
   "cell_type": "code",
   "execution_count": 16,
   "id": "816726cb",
   "metadata": {},
   "outputs": [
    {
     "data": {
      "text/plain": [
       "1"
      ]
     },
     "execution_count": 16,
     "metadata": {},
     "output_type": "execute_result"
    }
   ],
   "source": [
    "a[0]"
   ]
  },
  {
   "cell_type": "code",
   "execution_count": 17,
   "id": "309d3a41",
   "metadata": {},
   "outputs": [
    {
     "data": {
      "text/plain": [
       "3"
      ]
     },
     "execution_count": 17,
     "metadata": {},
     "output_type": "execute_result"
    }
   ],
   "source": [
    "a[2]"
   ]
  },
  {
   "cell_type": "code",
   "execution_count": 18,
   "id": "7840b202",
   "metadata": {},
   "outputs": [
    {
     "data": {
      "text/plain": [
       "'lima'"
      ]
     },
     "execution_count": 18,
     "metadata": {},
     "output_type": "execute_result"
    }
   ],
   "source": [
    "a[-2]"
   ]
  },
  {
   "cell_type": "code",
   "execution_count": 19,
   "id": "b53b584d",
   "metadata": {},
   "outputs": [
    {
     "data": {
      "text/plain": [
       "True"
      ]
     },
     "execution_count": 19,
     "metadata": {},
     "output_type": "execute_result"
    }
   ],
   "source": [
    "a[-1]"
   ]
  },
  {
   "cell_type": "code",
   "execution_count": 21,
   "id": "163513b4",
   "metadata": {},
   "outputs": [
    {
     "data": {
      "text/plain": [
       "1"
      ]
     },
     "execution_count": 21,
     "metadata": {},
     "output_type": "execute_result"
    }
   ],
   "source": [
    "a[-6]"
   ]
  },
  {
   "cell_type": "code",
   "execution_count": 23,
   "id": "bd7bdbc4",
   "metadata": {},
   "outputs": [],
   "source": [
    "a.append(7)"
   ]
  },
  {
   "cell_type": "code",
   "execution_count": 24,
   "id": "6fd9b940",
   "metadata": {},
   "outputs": [
    {
     "data": {
      "text/plain": [
       "[1, 2, 3, 'empat', 'lima', True, 7]"
      ]
     },
     "execution_count": 24,
     "metadata": {},
     "output_type": "execute_result"
    }
   ],
   "source": [
    "a"
   ]
  },
  {
   "cell_type": "code",
   "execution_count": 25,
   "id": "563bf76c",
   "metadata": {},
   "outputs": [
    {
     "data": {
      "text/plain": [
       "7"
      ]
     },
     "execution_count": 25,
     "metadata": {},
     "output_type": "execute_result"
    }
   ],
   "source": [
    "len(a)"
   ]
  },
  {
   "cell_type": "markdown",
   "id": "746ea105",
   "metadata": {},
   "source": [
    "## Slicing"
   ]
  },
  {
   "cell_type": "markdown",
   "id": "e23117b8",
   "metadata": {},
   "source": [
    "`inclusive` : `exclusive` : `step`"
   ]
  },
  {
   "cell_type": "code",
   "execution_count": 29,
   "id": "a7b86470",
   "metadata": {},
   "outputs": [],
   "source": [
    "a = [0, 1, 2, 3, 4, 5, 6, 7, 8]"
   ]
  },
  {
   "cell_type": "code",
   "execution_count": 30,
   "id": "cb756dda",
   "metadata": {},
   "outputs": [
    {
     "data": {
      "text/plain": [
       "[0, 1]"
      ]
     },
     "execution_count": 30,
     "metadata": {},
     "output_type": "execute_result"
    }
   ],
   "source": [
    "a[0:2]"
   ]
  },
  {
   "cell_type": "code",
   "execution_count": 31,
   "id": "b99052ed",
   "metadata": {},
   "outputs": [
    {
     "data": {
      "text/plain": [
       "[0, 1, 2, 3, 4]"
      ]
     },
     "execution_count": 31,
     "metadata": {},
     "output_type": "execute_result"
    }
   ],
   "source": [
    "a[0:5]"
   ]
  },
  {
   "cell_type": "code",
   "execution_count": 32,
   "id": "9e4f505d",
   "metadata": {},
   "outputs": [
    {
     "data": {
      "text/plain": [
       "[0, 1, 2, 3, 4, 5]"
      ]
     },
     "execution_count": 32,
     "metadata": {},
     "output_type": "execute_result"
    }
   ],
   "source": [
    "a[0:-3]"
   ]
  },
  {
   "cell_type": "code",
   "execution_count": 33,
   "id": "78c5bb5c",
   "metadata": {},
   "outputs": [
    {
     "data": {
      "text/plain": [
       "[0, 1, 2, 3, 4, 5, 6, 7, 8]"
      ]
     },
     "execution_count": 33,
     "metadata": {},
     "output_type": "execute_result"
    }
   ],
   "source": [
    "a[:]"
   ]
  },
  {
   "cell_type": "code",
   "execution_count": 34,
   "id": "eed67610",
   "metadata": {},
   "outputs": [
    {
     "data": {
      "text/plain": [
       "[0, 1, 2, 3, 4]"
      ]
     },
     "execution_count": 34,
     "metadata": {},
     "output_type": "execute_result"
    }
   ],
   "source": [
    "a[:5]"
   ]
  },
  {
   "cell_type": "code",
   "execution_count": 35,
   "id": "2e88a017",
   "metadata": {},
   "outputs": [
    {
     "data": {
      "text/plain": [
       "[0, 1, 2, 3, 4, 5, 6, 7, 8]"
      ]
     },
     "execution_count": 35,
     "metadata": {},
     "output_type": "execute_result"
    }
   ],
   "source": [
    "a[::]"
   ]
  },
  {
   "cell_type": "code",
   "execution_count": 36,
   "id": "b19feaff",
   "metadata": {},
   "outputs": [
    {
     "data": {
      "text/plain": [
       "[1, 3, 5, 7]"
      ]
     },
     "execution_count": 36,
     "metadata": {},
     "output_type": "execute_result"
    }
   ],
   "source": [
    "a[1:8:2]"
   ]
  },
  {
   "cell_type": "code",
   "execution_count": 37,
   "id": "76617b86",
   "metadata": {},
   "outputs": [
    {
     "data": {
      "text/plain": [
       "[0, 2, 4, 6, 8]"
      ]
     },
     "execution_count": 37,
     "metadata": {},
     "output_type": "execute_result"
    }
   ],
   "source": [
    "a[::2]"
   ]
  },
  {
   "cell_type": "code",
   "execution_count": 38,
   "id": "edc83c38",
   "metadata": {},
   "outputs": [
    {
     "data": {
      "text/plain": [
       "[8, 6, 4, 2, 0]"
      ]
     },
     "execution_count": 38,
     "metadata": {},
     "output_type": "execute_result"
    }
   ],
   "source": [
    "a[::-2]"
   ]
  },
  {
   "cell_type": "markdown",
   "id": "d1aed463",
   "metadata": {},
   "source": [
    "## Join & Split"
   ]
  },
  {
   "cell_type": "code",
   "execution_count": 39,
   "id": "68b50e1f",
   "metadata": {},
   "outputs": [],
   "source": [
    "a = ['cat', 'dog', 'fish']"
   ]
  },
  {
   "cell_type": "code",
   "execution_count": 40,
   "id": "ddf2e60d",
   "metadata": {},
   "outputs": [
    {
     "data": {
      "text/plain": [
       "'cat dog fish'"
      ]
     },
     "execution_count": 40,
     "metadata": {},
     "output_type": "execute_result"
    }
   ],
   "source": [
    "\" \".join(a)"
   ]
  },
  {
   "cell_type": "code",
   "execution_count": 41,
   "id": "1d845392",
   "metadata": {},
   "outputs": [
    {
     "data": {
      "text/plain": [
       "'cat, dog, fish'"
      ]
     },
     "execution_count": 41,
     "metadata": {},
     "output_type": "execute_result"
    }
   ],
   "source": [
    "\", \".join(a)"
   ]
  },
  {
   "cell_type": "code",
   "execution_count": 42,
   "id": "e389307b",
   "metadata": {},
   "outputs": [],
   "source": [
    "a = \"Halo nama saya Adam biasa dipanggil Arthur\""
   ]
  },
  {
   "cell_type": "code",
   "execution_count": 43,
   "id": "ccbdf990",
   "metadata": {},
   "outputs": [
    {
     "data": {
      "text/plain": [
       "['Halo', 'nama', 'saya', 'Adam', 'biasa', 'dipanggil', 'Arthur']"
      ]
     },
     "execution_count": 43,
     "metadata": {},
     "output_type": "execute_result"
    }
   ],
   "source": [
    "a.split()"
   ]
  },
  {
   "cell_type": "code",
   "execution_count": 44,
   "id": "16655cbe",
   "metadata": {},
   "outputs": [],
   "source": [
    "a = \"Halo, nama saya Adam, biasa dipanggil Arthur\""
   ]
  },
  {
   "cell_type": "code",
   "execution_count": 45,
   "id": "c8bb4053",
   "metadata": {},
   "outputs": [
    {
     "data": {
      "text/plain": [
       "['Halo', 'nama saya Adam', 'biasa dipanggil Arthur']"
      ]
     },
     "execution_count": 45,
     "metadata": {},
     "output_type": "execute_result"
    }
   ],
   "source": [
    "a.split(\", \")"
   ]
  },
  {
   "cell_type": "markdown",
   "id": "a89a5f2c",
   "metadata": {},
   "source": [
    "## Dictionary"
   ]
  },
  {
   "cell_type": "code",
   "execution_count": 46,
   "id": "032ba54c",
   "metadata": {},
   "outputs": [],
   "source": [
    "a = {\n",
    "    'cat': 'kucing',\n",
    "    'dog': 'anjing',\n",
    "    'fish': 'ikan',\n",
    "}"
   ]
  },
  {
   "cell_type": "code",
   "execution_count": 47,
   "id": "acb7f307",
   "metadata": {},
   "outputs": [
    {
     "data": {
      "text/plain": [
       "{'cat': 'kucing', 'dog': 'anjing', 'fish': 'ikan'}"
      ]
     },
     "execution_count": 47,
     "metadata": {},
     "output_type": "execute_result"
    }
   ],
   "source": [
    "a"
   ]
  },
  {
   "cell_type": "code",
   "execution_count": 48,
   "id": "b7cbcba0",
   "metadata": {},
   "outputs": [
    {
     "data": {
      "text/plain": [
       "'kucing'"
      ]
     },
     "execution_count": 48,
     "metadata": {},
     "output_type": "execute_result"
    }
   ],
   "source": [
    "a['cat']"
   ]
  },
  {
   "cell_type": "code",
   "execution_count": 49,
   "id": "cc7c5861",
   "metadata": {},
   "outputs": [],
   "source": [
    "a['bird'] = 'burung'"
   ]
  },
  {
   "cell_type": "code",
   "execution_count": 50,
   "id": "f93c9b84",
   "metadata": {},
   "outputs": [],
   "source": [
    "a['elephant'] = 'gajah'"
   ]
  },
  {
   "cell_type": "code",
   "execution_count": 51,
   "id": "9ada61e2",
   "metadata": {},
   "outputs": [
    {
     "data": {
      "text/plain": [
       "{'cat': 'kucing',\n",
       " 'dog': 'anjing',\n",
       " 'fish': 'ikan',\n",
       " 'bird': 'burung',\n",
       " 'elephant': 'gajah'}"
      ]
     },
     "execution_count": 51,
     "metadata": {},
     "output_type": "execute_result"
    }
   ],
   "source": [
    "a"
   ]
  },
  {
   "cell_type": "code",
   "execution_count": 52,
   "id": "b57c8481",
   "metadata": {},
   "outputs": [
    {
     "data": {
      "text/plain": [
       "dict_keys(['cat', 'dog', 'fish', 'bird', 'elephant'])"
      ]
     },
     "execution_count": 52,
     "metadata": {},
     "output_type": "execute_result"
    }
   ],
   "source": [
    "a.keys()"
   ]
  },
  {
   "cell_type": "code",
   "execution_count": 53,
   "id": "a504867e",
   "metadata": {},
   "outputs": [
    {
     "data": {
      "text/plain": [
       "dict_values(['kucing', 'anjing', 'ikan', 'burung', 'gajah'])"
      ]
     },
     "execution_count": 53,
     "metadata": {},
     "output_type": "execute_result"
    }
   ],
   "source": [
    "a.values()"
   ]
  },
  {
   "cell_type": "code",
   "execution_count": 55,
   "id": "654c3e50",
   "metadata": {},
   "outputs": [],
   "source": [
    "nilai = {'naruto': 40, 'kaneki': 80, 'izuku': 85, 'ayanokouji': 100}"
   ]
  },
  {
   "cell_type": "code",
   "execution_count": 56,
   "id": "ef97ce09",
   "metadata": {},
   "outputs": [
    {
     "data": {
      "text/plain": [
       "{'naruto': 40, 'kaneki': 80, 'izuku': 85, 'ayanokouji': 100}"
      ]
     },
     "execution_count": 56,
     "metadata": {},
     "output_type": "execute_result"
    }
   ],
   "source": [
    "nilai"
   ]
  },
  {
   "cell_type": "code",
   "execution_count": 57,
   "id": "19217e33",
   "metadata": {},
   "outputs": [],
   "source": [
    "nilai['ayanokouji'] = 90"
   ]
  },
  {
   "cell_type": "code",
   "execution_count": 58,
   "id": "8f994696",
   "metadata": {},
   "outputs": [
    {
     "data": {
      "text/plain": [
       "{'naruto': 40, 'kaneki': 80, 'izuku': 85, 'ayanokouji': 90}"
      ]
     },
     "execution_count": 58,
     "metadata": {},
     "output_type": "execute_result"
    }
   ],
   "source": [
    "nilai"
   ]
  },
  {
   "cell_type": "markdown",
   "id": "fb68fa7b",
   "metadata": {},
   "source": [
    "## Function"
   ]
  },
  {
   "cell_type": "code",
   "execution_count": 59,
   "id": "05549992",
   "metadata": {},
   "outputs": [],
   "source": [
    "def jumlah(a, b):\n",
    "    return a + b"
   ]
  },
  {
   "cell_type": "code",
   "execution_count": 60,
   "id": "c782f372",
   "metadata": {},
   "outputs": [
    {
     "data": {
      "text/plain": [
       "11"
      ]
     },
     "execution_count": 60,
     "metadata": {},
     "output_type": "execute_result"
    }
   ],
   "source": [
    "jumlah(5,6)"
   ]
  },
  {
   "cell_type": "code",
   "execution_count": 61,
   "id": "7c84c153",
   "metadata": {},
   "outputs": [],
   "source": [
    "def kali(a, b):\n",
    "    return a * b"
   ]
  },
  {
   "cell_type": "code",
   "execution_count": 62,
   "id": "2002d38d",
   "metadata": {},
   "outputs": [
    {
     "data": {
      "text/plain": [
       "30"
      ]
     },
     "execution_count": 62,
     "metadata": {},
     "output_type": "execute_result"
    }
   ],
   "source": [
    "kali(5,6)"
   ]
  },
  {
   "cell_type": "code",
   "execution_count": 63,
   "id": "6af95441",
   "metadata": {},
   "outputs": [],
   "source": [
    "def pangkat(a, b):\n",
    "    return a ** b"
   ]
  },
  {
   "cell_type": "code",
   "execution_count": 64,
   "id": "a7c1a78c",
   "metadata": {},
   "outputs": [
    {
     "data": {
      "text/plain": [
       "15625"
      ]
     },
     "execution_count": 64,
     "metadata": {},
     "output_type": "execute_result"
    }
   ],
   "source": [
    "pangkat(5, 6)"
   ]
  },
  {
   "cell_type": "markdown",
   "id": "08934cde",
   "metadata": {},
   "source": [
    "## Conditionals"
   ]
  },
  {
   "cell_type": "code",
   "execution_count": 65,
   "id": "87ea519c",
   "metadata": {},
   "outputs": [],
   "source": [
    "score = 50"
   ]
  },
  {
   "cell_type": "code",
   "execution_count": 9,
   "id": "31ff86c5",
   "metadata": {},
   "outputs": [],
   "source": [
    "def konversi_indeks(indeks):\n",
    "    if 0 <= indeks < 60:\n",
    "        return \"D\"\n",
    "    elif 60 <= indeks < 70:\n",
    "        return \"C\"\n",
    "    elif 70 <= indeks < 80:\n",
    "        return \"B\"\n",
    "    elif 80 <= indeks < 90:\n",
    "        return \"A\"\n",
    "    elif 90 <= indeks <= 100:\n",
    "        return \"S\"\n",
    "    else:\n",
    "        return \"Nilai nya ngaco\""
   ]
  },
  {
   "cell_type": "code",
   "execution_count": 6,
   "id": "86f71770",
   "metadata": {},
   "outputs": [
    {
     "data": {
      "text/plain": [
       "'C'"
      ]
     },
     "execution_count": 6,
     "metadata": {},
     "output_type": "execute_result"
    }
   ],
   "source": [
    "konversi_indeks(60)"
   ]
  },
  {
   "cell_type": "code",
   "execution_count": 10,
   "id": "5e036551",
   "metadata": {},
   "outputs": [
    {
     "data": {
      "text/plain": [
       "'S'"
      ]
     },
     "execution_count": 10,
     "metadata": {},
     "output_type": "execute_result"
    }
   ],
   "source": [
    "konversi_indeks(100)"
   ]
  },
  {
   "cell_type": "code",
   "execution_count": 11,
   "id": "c30f6569",
   "metadata": {},
   "outputs": [
    {
     "data": {
      "text/plain": [
       "'Nilai nya ngaco'"
      ]
     },
     "execution_count": 11,
     "metadata": {},
     "output_type": "execute_result"
    }
   ],
   "source": [
    "konversi_indeks(1234)"
   ]
  },
  {
   "cell_type": "markdown",
   "id": "8c5f1f42",
   "metadata": {},
   "source": [
    "## Iterasi"
   ]
  },
  {
   "cell_type": "code",
   "execution_count": 13,
   "id": "e684a981",
   "metadata": {},
   "outputs": [],
   "source": [
    "numbers = [1, 2, 3, 4, 5, 6, 7]"
   ]
  },
  {
   "cell_type": "code",
   "execution_count": 15,
   "id": "337b1d42",
   "metadata": {},
   "outputs": [
    {
     "name": "stdout",
     "output_type": "stream",
     "text": [
      "1\n",
      "2\n",
      "3\n",
      "4\n",
      "5\n",
      "6\n",
      "7\n"
     ]
    }
   ],
   "source": [
    "for n in numbers:\n",
    "    print(n)"
   ]
  },
  {
   "cell_type": "code",
   "execution_count": 18,
   "id": "cda2194c",
   "metadata": {},
   "outputs": [
    {
     "name": "stdout",
     "output_type": "stream",
     "text": [
      "Indeks:  D\n",
      "Indeks:  C\n",
      "Indeks:  B\n",
      "Indeks:  A\n",
      "Indeks:  S\n",
      "Indeks:  S\n",
      "Indeks:  Nilai nya ngaco\n"
     ]
    }
   ],
   "source": [
    "for score in [50, 60, 70, 80, 90, 100, 110]:\n",
    "    print(\"Indeks: \", konversi_indeks(score))"
   ]
  },
  {
   "cell_type": "code",
   "execution_count": 19,
   "id": "a7605373",
   "metadata": {},
   "outputs": [],
   "source": [
    "animals = ['Cat', 'Fish', 'Dog', 'Elephant', 'Bird']"
   ]
  },
  {
   "cell_type": "code",
   "execution_count": 20,
   "id": "fe5905ec",
   "metadata": {},
   "outputs": [
    {
     "name": "stdout",
     "output_type": "stream",
     "text": [
      "Cat\n",
      "Fish\n",
      "Dog\n",
      "Elephant\n",
      "Bird\n"
     ]
    }
   ],
   "source": [
    "for animal in animals:\n",
    "    print(animal)"
   ]
  },
  {
   "cell_type": "code",
   "execution_count": 22,
   "id": "8c7239f2",
   "metadata": {},
   "outputs": [
    {
     "name": "stdout",
     "output_type": "stream",
     "text": [
      "CAT\n",
      "FISH\n",
      "DOG\n",
      "ELEPHANT\n",
      "BIRD\n"
     ]
    }
   ],
   "source": [
    "for animal in animals:\n",
    "    print(animal.upper())"
   ]
  },
  {
   "cell_type": "code",
   "execution_count": 23,
   "id": "a8b4ce0f",
   "metadata": {},
   "outputs": [
    {
     "name": "stdout",
     "output_type": "stream",
     "text": [
      "cat\n",
      "fish\n",
      "dog\n",
      "elephant\n",
      "bird\n"
     ]
    }
   ],
   "source": [
    "for animal in animals:\n",
    "    print(animal.lower())"
   ]
  },
  {
   "cell_type": "code",
   "execution_count": 24,
   "id": "d0d0966b",
   "metadata": {},
   "outputs": [
    {
     "name": "stdout",
     "output_type": "stream",
     "text": [
      "2\n",
      "4\n",
      "6\n",
      "8\n"
     ]
    }
   ],
   "source": [
    "for angka in range(2, 10, 2):\n",
    "    print(angka)"
   ]
  },
  {
   "cell_type": "code",
   "execution_count": 26,
   "id": "d37680c3",
   "metadata": {},
   "outputs": [],
   "source": [
    "animals ={\n",
    "    'Cat': 'Kucing',\n",
    "    'Fish': 'Ikan', \n",
    "    'Elephant': 'Gajah',\n",
    "    'Dog': 'Anjing',\n",
    "    'Bird': 'Burung'\n",
    "}"
   ]
  },
  {
   "cell_type": "code",
   "execution_count": 27,
   "id": "beb675d1",
   "metadata": {},
   "outputs": [
    {
     "name": "stdout",
     "output_type": "stream",
     "text": [
      "Cat\n",
      "Fish\n",
      "Elephant\n",
      "Dog\n",
      "Bird\n"
     ]
    }
   ],
   "source": [
    "for animal in animals.keys():\n",
    "    print(animal)"
   ]
  },
  {
   "cell_type": "code",
   "execution_count": 28,
   "id": "1978f9bd",
   "metadata": {},
   "outputs": [
    {
     "name": "stdout",
     "output_type": "stream",
     "text": [
      "Kucing\n",
      "Ikan\n",
      "Gajah\n",
      "Anjing\n",
      "Burung\n"
     ]
    }
   ],
   "source": [
    "for animal in animals.values():\n",
    "    print(animal)"
   ]
  },
  {
   "cell_type": "code",
   "execution_count": 30,
   "id": "3bc03ebf",
   "metadata": {},
   "outputs": [
    {
     "name": "stdout",
     "output_type": "stream",
     "text": [
      "Bahasa Indonesia dari Cat adalah Kucing\n",
      "Bahasa Indonesia dari Fish adalah Ikan\n",
      "Bahasa Indonesia dari Elephant adalah Gajah\n",
      "Bahasa Indonesia dari Dog adalah Anjing\n",
      "Bahasa Indonesia dari Bird adalah Burung\n"
     ]
    }
   ],
   "source": [
    "for animal in animals.keys():\n",
    "    print(f\"Bahasa Indonesia dari {animal} adalah {animals[animal]}\")"
   ]
  },
  {
   "cell_type": "code",
   "execution_count": 35,
   "id": "8815c8ad",
   "metadata": {},
   "outputs": [],
   "source": [
    "a = []"
   ]
  },
  {
   "cell_type": "code",
   "execution_count": 36,
   "id": "cd5f7192",
   "metadata": {},
   "outputs": [],
   "source": [
    "for angka in range(8):\n",
    "    a.append(angka ** 2)"
   ]
  },
  {
   "cell_type": "code",
   "execution_count": 38,
   "id": "38066c4d",
   "metadata": {},
   "outputs": [
    {
     "data": {
      "text/plain": [
       "[0, 1, 4, 9, 16, 25, 36, 49]"
      ]
     },
     "execution_count": 38,
     "metadata": {},
     "output_type": "execute_result"
    }
   ],
   "source": [
    "a"
   ]
  },
  {
   "cell_type": "markdown",
   "id": "a8e2f9b5",
   "metadata": {},
   "source": [
    "## Python Comprehension"
   ]
  },
  {
   "cell_type": "code",
   "execution_count": 39,
   "id": "60f34616",
   "metadata": {},
   "outputs": [],
   "source": [
    "b = [angka ** 2 for angka in range(10)]"
   ]
  },
  {
   "cell_type": "code",
   "execution_count": 40,
   "id": "a2c3085f",
   "metadata": {},
   "outputs": [
    {
     "data": {
      "text/plain": [
       "[0, 1, 4, 9, 16, 25, 36, 49, 64, 81]"
      ]
     },
     "execution_count": 40,
     "metadata": {},
     "output_type": "execute_result"
    }
   ],
   "source": [
    "b"
   ]
  },
  {
   "cell_type": "code",
   "execution_count": 41,
   "id": "e0b92c28",
   "metadata": {},
   "outputs": [],
   "source": [
    "b = {angka: angka ** 2 for angka in range(10)}"
   ]
  },
  {
   "cell_type": "code",
   "execution_count": 42,
   "id": "ffbace07",
   "metadata": {},
   "outputs": [
    {
     "data": {
      "text/plain": [
       "{0: 0, 1: 1, 2: 4, 3: 9, 4: 16, 5: 25, 6: 36, 7: 49, 8: 64, 9: 81}"
      ]
     },
     "execution_count": 42,
     "metadata": {},
     "output_type": "execute_result"
    }
   ],
   "source": [
    "b"
   ]
  },
  {
   "cell_type": "code",
   "execution_count": 43,
   "id": "ecf7636b",
   "metadata": {},
   "outputs": [
    {
     "data": {
      "text/plain": [
       "{1, 2, 3, 4, 5}"
      ]
     },
     "execution_count": 43,
     "metadata": {},
     "output_type": "execute_result"
    }
   ],
   "source": [
    "{1, 1, 2, 2, 3, 3, 4, 4, 5, 5}"
   ]
  }
 ],
 "metadata": {
  "kernelspec": {
   "display_name": "Python 3",
   "language": "python",
   "name": "python3"
  },
  "language_info": {
   "codemirror_mode": {
    "name": "ipython",
    "version": 3
   },
   "file_extension": ".py",
   "mimetype": "text/x-python",
   "name": "python",
   "nbconvert_exporter": "python",
   "pygments_lexer": "ipython3",
   "version": "3.9.1"
  },
  "toc-autonumbering": true,
  "toc-showcode": true
 },
 "nbformat": 4,
 "nbformat_minor": 5
}
