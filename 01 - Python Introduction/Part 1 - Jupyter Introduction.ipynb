{
 "cells": [
  {
   "cell_type": "markdown",
   "id": "576f24aa",
   "metadata": {},
   "source": [
    "# Coba Jupyter"
   ]
  },
  {
   "cell_type": "code",
   "execution_count": 1,
   "id": "dc44db45",
   "metadata": {},
   "outputs": [
    {
     "data": {
      "text/plain": [
       "2"
      ]
     },
     "execution_count": 1,
     "metadata": {},
     "output_type": "execute_result"
    }
   ],
   "source": [
    "1 + 1"
   ]
  },
  {
   "cell_type": "markdown",
   "id": "028c9824",
   "metadata": {},
   "source": [
    "## Ini adalah heading 2 "
   ]
  },
  {
   "cell_type": "code",
   "execution_count": 3,
   "id": "660d7c4e",
   "metadata": {},
   "outputs": [
    {
     "name": "stdout",
     "output_type": "stream",
     "text": [
      "Hello, World!\n"
     ]
    }
   ],
   "source": [
    "print(\"Hello, World!\")"
   ]
  },
  {
   "cell_type": "markdown",
   "id": "04479784",
   "metadata": {},
   "source": [
    "### Ini adalah heading 3"
   ]
  },
  {
   "cell_type": "code",
   "execution_count": 4,
   "id": "6a2b8573",
   "metadata": {},
   "outputs": [
    {
     "data": {
      "text/plain": [
       "4"
      ]
     },
     "execution_count": 4,
     "metadata": {},
     "output_type": "execute_result"
    }
   ],
   "source": [
    "2 * 2"
   ]
  },
  {
   "cell_type": "code",
   "execution_count": 5,
   "id": "8012801a",
   "metadata": {},
   "outputs": [
    {
     "data": {
      "text/plain": [
       "32"
      ]
     },
     "execution_count": 5,
     "metadata": {},
     "output_type": "execute_result"
    }
   ],
   "source": [
    "2 ** 5"
   ]
  },
  {
   "cell_type": "markdown",
   "id": "dae74b53",
   "metadata": {},
   "source": [
    "### Ini adalah heading baru"
   ]
  },
  {
   "cell_type": "code",
   "execution_count": 6,
   "id": "f2d23977",
   "metadata": {},
   "outputs": [
    {
     "data": {
      "text/plain": [
       "2.5"
      ]
     },
     "execution_count": 6,
     "metadata": {},
     "output_type": "execute_result"
    }
   ],
   "source": [
    "5 / 2"
   ]
  },
  {
   "cell_type": "code",
   "execution_count": null,
   "id": "1831ddc9",
   "metadata": {},
   "outputs": [],
   "source": [
    "s"
   ]
  }
 ],
 "metadata": {
  "kernelspec": {
   "display_name": "Python 3",
   "language": "python",
   "name": "python3"
  },
  "language_info": {
   "codemirror_mode": {
    "name": "ipython",
    "version": 3
   },
   "file_extension": ".py",
   "mimetype": "text/x-python",
   "name": "python",
   "nbconvert_exporter": "python",
   "pygments_lexer": "ipython3",
   "version": "3.9.1"
  }
 },
 "nbformat": 4,
 "nbformat_minor": 5
}
