{
 "cells": [
  {
   "cell_type": "markdown",
   "id": "ef5f77fc",
   "metadata": {},
   "source": [
    "# Tutorial Python"
   ]
  },
  {
   "cell_type": "markdown",
   "id": "2b7220c4",
   "metadata": {},
   "source": [
    "## Print"
   ]
  },
  {
   "cell_type": "code",
   "execution_count": 1,
   "id": "47b42589",
   "metadata": {},
   "outputs": [
    {
     "name": "stdout",
     "output_type": "stream",
     "text": [
      "Halo, nama saya Adam, biasa dipanggil Arthur\n"
     ]
    }
   ],
   "source": [
    "print(\"Halo, nama saya Adam, biasa dipanggil Arthur\")"
   ]
  },
  {
   "cell_type": "code",
   "execution_count": 2,
   "id": "f837a6c4",
   "metadata": {},
   "outputs": [
    {
     "name": "stdout",
     "output_type": "stream",
     "text": [
      "Halo, nama saya Adam, biasa dipanggil Arthur\n"
     ]
    }
   ],
   "source": [
    "print('Halo, nama saya Adam, biasa dipanggil Arthur')"
   ]
  },
  {
   "cell_type": "code",
   "execution_count": 3,
   "id": "a6c543f8",
   "metadata": {},
   "outputs": [
    {
     "name": "stdout",
     "output_type": "stream",
     "text": [
      "Halo, nama saya Adam, biasa dipanggil Arthur\n"
     ]
    }
   ],
   "source": [
    "print(\"\"\"Halo, nama saya Adam, biasa dipanggil Arthur\"\"\")"
   ]
  },
  {
   "cell_type": "code",
   "execution_count": 4,
   "id": "465f5fc9",
   "metadata": {},
   "outputs": [
    {
     "name": "stdout",
     "output_type": "stream",
     "text": [
      "Halo, nama saya Adam, biasa dipanggil Arthur\n"
     ]
    }
   ],
   "source": [
    "print('''Halo, nama saya Adam, biasa dipanggil Arthur''')"
   ]
  },
  {
   "cell_type": "markdown",
   "id": "aed59aa5",
   "metadata": {},
   "source": [
    "## Variable"
   ]
  },
  {
   "cell_type": "code",
   "execution_count": 5,
   "id": "ee26a824",
   "metadata": {},
   "outputs": [],
   "source": [
    "a = 2"
   ]
  },
  {
   "cell_type": "code",
   "execution_count": 6,
   "id": "1ab08de3",
   "metadata": {},
   "outputs": [
    {
     "data": {
      "text/plain": [
       "2"
      ]
     },
     "execution_count": 6,
     "metadata": {},
     "output_type": "execute_result"
    }
   ],
   "source": [
    "a"
   ]
  },
  {
   "cell_type": "code",
   "execution_count": 7,
   "id": "012c817a",
   "metadata": {},
   "outputs": [],
   "source": [
    "a, b = 3, 4"
   ]
  },
  {
   "cell_type": "code",
   "execution_count": 8,
   "id": "23235a81",
   "metadata": {},
   "outputs": [
    {
     "data": {
      "text/plain": [
       "3"
      ]
     },
     "execution_count": 8,
     "metadata": {},
     "output_type": "execute_result"
    }
   ],
   "source": [
    "a"
   ]
  },
  {
   "cell_type": "code",
   "execution_count": 9,
   "id": "64084286",
   "metadata": {},
   "outputs": [
    {
     "data": {
      "text/plain": [
       "4"
      ]
     },
     "execution_count": 9,
     "metadata": {},
     "output_type": "execute_result"
    }
   ],
   "source": [
    "b"
   ]
  },
  {
   "cell_type": "code",
   "execution_count": 10,
   "id": "f566e2d7",
   "metadata": {},
   "outputs": [],
   "source": [
    "a, b, c = 6, 8, 10"
   ]
  },
  {
   "cell_type": "code",
   "execution_count": 11,
   "id": "ca67aa24",
   "metadata": {},
   "outputs": [
    {
     "data": {
      "text/plain": [
       "6"
      ]
     },
     "execution_count": 11,
     "metadata": {},
     "output_type": "execute_result"
    }
   ],
   "source": [
    "a"
   ]
  },
  {
   "cell_type": "code",
   "execution_count": 12,
   "id": "49e8ca1d",
   "metadata": {},
   "outputs": [
    {
     "data": {
      "text/plain": [
       "8"
      ]
     },
     "execution_count": 12,
     "metadata": {},
     "output_type": "execute_result"
    }
   ],
   "source": [
    "b"
   ]
  },
  {
   "cell_type": "code",
   "execution_count": 13,
   "id": "ad1a2eb8",
   "metadata": {},
   "outputs": [
    {
     "data": {
      "text/plain": [
       "10"
      ]
     },
     "execution_count": 13,
     "metadata": {},
     "output_type": "execute_result"
    }
   ],
   "source": [
    "c"
   ]
  },
  {
   "cell_type": "code",
   "execution_count": 14,
   "id": "d99ec192",
   "metadata": {},
   "outputs": [
    {
     "data": {
      "text/plain": [
       "(6, 8, 10)"
      ]
     },
     "execution_count": 14,
     "metadata": {},
     "output_type": "execute_result"
    }
   ],
   "source": [
    "a, b, c"
   ]
  },
  {
   "cell_type": "markdown",
   "id": "52593d5a",
   "metadata": {},
   "source": [
    "## List"
   ]
  },
  {
   "cell_type": "code",
   "execution_count": 15,
   "id": "f7144d13",
   "metadata": {},
   "outputs": [],
   "source": [
    "a = [1, 2, 3, 'empat', 'lima', True]"
   ]
  },
  {
   "cell_type": "code",
   "execution_count": 16,
   "id": "af7d2aa2",
   "metadata": {},
   "outputs": [
    {
     "data": {
      "text/plain": [
       "1"
      ]
     },
     "execution_count": 16,
     "metadata": {},
     "output_type": "execute_result"
    }
   ],
   "source": [
    "a[0]"
   ]
  },
  {
   "cell_type": "code",
   "execution_count": 17,
   "id": "85d28e1e",
   "metadata": {},
   "outputs": [
    {
     "data": {
      "text/plain": [
       "3"
      ]
     },
     "execution_count": 17,
     "metadata": {},
     "output_type": "execute_result"
    }
   ],
   "source": [
    "a[2]"
   ]
  },
  {
   "cell_type": "code",
   "execution_count": 18,
   "id": "769bbf10",
   "metadata": {},
   "outputs": [
    {
     "data": {
      "text/plain": [
       "'lima'"
      ]
     },
     "execution_count": 18,
     "metadata": {},
     "output_type": "execute_result"
    }
   ],
   "source": [
    "a[-2]"
   ]
  },
  {
   "cell_type": "code",
   "execution_count": 19,
   "id": "eb5cc992",
   "metadata": {},
   "outputs": [
    {
     "data": {
      "text/plain": [
       "True"
      ]
     },
     "execution_count": 19,
     "metadata": {},
     "output_type": "execute_result"
    }
   ],
   "source": [
    "a[-1]"
   ]
  },
  {
   "cell_type": "code",
   "execution_count": 21,
   "id": "65e853ea",
   "metadata": {},
   "outputs": [
    {
     "data": {
      "text/plain": [
       "1"
      ]
     },
     "execution_count": 21,
     "metadata": {},
     "output_type": "execute_result"
    }
   ],
   "source": [
    "a[-6]"
   ]
  },
  {
   "cell_type": "code",
   "execution_count": 23,
   "id": "f1507096",
   "metadata": {},
   "outputs": [],
   "source": [
    "a.append(7)"
   ]
  },
  {
   "cell_type": "code",
   "execution_count": 24,
   "id": "2574e7f8",
   "metadata": {},
   "outputs": [
    {
     "data": {
      "text/plain": [
       "[1, 2, 3, 'empat', 'lima', True, 7]"
      ]
     },
     "execution_count": 24,
     "metadata": {},
     "output_type": "execute_result"
    }
   ],
   "source": [
    "a"
   ]
  },
  {
   "cell_type": "code",
   "execution_count": 25,
   "id": "f829791c",
   "metadata": {},
   "outputs": [
    {
     "data": {
      "text/plain": [
       "7"
      ]
     },
     "execution_count": 25,
     "metadata": {},
     "output_type": "execute_result"
    }
   ],
   "source": [
    "len(a)"
   ]
  },
  {
   "cell_type": "markdown",
   "id": "2d56dc54",
   "metadata": {},
   "source": [
    "## Slicing"
   ]
  },
  {
   "cell_type": "markdown",
   "id": "daf67c9e",
   "metadata": {},
   "source": [
    "`inclusive` : `exclusive` : `step`"
   ]
  },
  {
   "cell_type": "code",
   "execution_count": 29,
   "id": "1d733dcf",
   "metadata": {},
   "outputs": [],
   "source": [
    "a = [0, 1, 2, 3, 4, 5, 6, 7, 8]"
   ]
  },
  {
   "cell_type": "code",
   "execution_count": 30,
   "id": "1291cc22",
   "metadata": {},
   "outputs": [
    {
     "data": {
      "text/plain": [
       "[0, 1]"
      ]
     },
     "execution_count": 30,
     "metadata": {},
     "output_type": "execute_result"
    }
   ],
   "source": [
    "a[0:2]"
   ]
  },
  {
   "cell_type": "code",
   "execution_count": 31,
   "id": "23aa10b2",
   "metadata": {},
   "outputs": [
    {
     "data": {
      "text/plain": [
       "[0, 1, 2, 3, 4]"
      ]
     },
     "execution_count": 31,
     "metadata": {},
     "output_type": "execute_result"
    }
   ],
   "source": [
    "a[0:5]"
   ]
  },
  {
   "cell_type": "code",
   "execution_count": 32,
   "id": "33c67320",
   "metadata": {},
   "outputs": [
    {
     "data": {
      "text/plain": [
       "[0, 1, 2, 3, 4, 5]"
      ]
     },
     "execution_count": 32,
     "metadata": {},
     "output_type": "execute_result"
    }
   ],
   "source": [
    "a[0:-3]"
   ]
  },
  {
   "cell_type": "code",
   "execution_count": 33,
   "id": "fdb40659",
   "metadata": {},
   "outputs": [
    {
     "data": {
      "text/plain": [
       "[0, 1, 2, 3, 4, 5, 6, 7, 8]"
      ]
     },
     "execution_count": 33,
     "metadata": {},
     "output_type": "execute_result"
    }
   ],
   "source": [
    "a[:]"
   ]
  },
  {
   "cell_type": "code",
   "execution_count": 34,
   "id": "a6918d47",
   "metadata": {},
   "outputs": [
    {
     "data": {
      "text/plain": [
       "[0, 1, 2, 3, 4]"
      ]
     },
     "execution_count": 34,
     "metadata": {},
     "output_type": "execute_result"
    }
   ],
   "source": [
    "a[:5]"
   ]
  },
  {
   "cell_type": "code",
   "execution_count": 35,
   "id": "16f0f4a5",
   "metadata": {},
   "outputs": [
    {
     "data": {
      "text/plain": [
       "[0, 1, 2, 3, 4, 5, 6, 7, 8]"
      ]
     },
     "execution_count": 35,
     "metadata": {},
     "output_type": "execute_result"
    }
   ],
   "source": [
    "a[::]"
   ]
  },
  {
   "cell_type": "code",
   "execution_count": 36,
   "id": "6bde1504",
   "metadata": {},
   "outputs": [
    {
     "data": {
      "text/plain": [
       "[1, 3, 5, 7]"
      ]
     },
     "execution_count": 36,
     "metadata": {},
     "output_type": "execute_result"
    }
   ],
   "source": [
    "a[1:8:2]"
   ]
  },
  {
   "cell_type": "code",
   "execution_count": 37,
   "id": "3dc217b9",
   "metadata": {},
   "outputs": [
    {
     "data": {
      "text/plain": [
       "[0, 2, 4, 6, 8]"
      ]
     },
     "execution_count": 37,
     "metadata": {},
     "output_type": "execute_result"
    }
   ],
   "source": [
    "a[::2]"
   ]
  },
  {
   "cell_type": "code",
   "execution_count": 38,
   "id": "ba743087",
   "metadata": {},
   "outputs": [
    {
     "data": {
      "text/plain": [
       "[8, 6, 4, 2, 0]"
      ]
     },
     "execution_count": 38,
     "metadata": {},
     "output_type": "execute_result"
    }
   ],
   "source": [
    "a[::-2]"
   ]
  },
  {
   "cell_type": "markdown",
   "id": "45875b5a",
   "metadata": {},
   "source": [
    "## Join & Split"
   ]
  },
  {
   "cell_type": "code",
   "execution_count": 39,
   "id": "bfb136f1",
   "metadata": {},
   "outputs": [],
   "source": [
    "a = ['cat', 'dog', 'fish']"
   ]
  },
  {
   "cell_type": "code",
   "execution_count": 40,
   "id": "32e4574f",
   "metadata": {},
   "outputs": [
    {
     "data": {
      "text/plain": [
       "'cat dog fish'"
      ]
     },
     "execution_count": 40,
     "metadata": {},
     "output_type": "execute_result"
    }
   ],
   "source": [
    "\" \".join(a)"
   ]
  },
  {
   "cell_type": "code",
   "execution_count": 41,
   "id": "e694f59e",
   "metadata": {},
   "outputs": [
    {
     "data": {
      "text/plain": [
       "'cat, dog, fish'"
      ]
     },
     "execution_count": 41,
     "metadata": {},
     "output_type": "execute_result"
    }
   ],
   "source": [
    "\", \".join(a)"
   ]
  },
  {
   "cell_type": "code",
   "execution_count": 42,
   "id": "1b22b47c",
   "metadata": {},
   "outputs": [],
   "source": [
    "a = \"Halo nama saya Adam biasa dipanggil Arthur\""
   ]
  },
  {
   "cell_type": "code",
   "execution_count": 43,
   "id": "05de1aa7",
   "metadata": {},
   "outputs": [
    {
     "data": {
      "text/plain": [
       "['Halo', 'nama', 'saya', 'Adam', 'biasa', 'dipanggil', 'Arthur']"
      ]
     },
     "execution_count": 43,
     "metadata": {},
     "output_type": "execute_result"
    }
   ],
   "source": [
    "a.split()"
   ]
  },
  {
   "cell_type": "code",
   "execution_count": 44,
   "id": "e2f3fd4e",
   "metadata": {},
   "outputs": [],
   "source": [
    "a = \"Halo, nama saya Adam, biasa dipanggil Arthur\""
   ]
  },
  {
   "cell_type": "code",
   "execution_count": 45,
   "id": "47b9beda",
   "metadata": {},
   "outputs": [
    {
     "data": {
      "text/plain": [
       "['Halo', 'nama saya Adam', 'biasa dipanggil Arthur']"
      ]
     },
     "execution_count": 45,
     "metadata": {},
     "output_type": "execute_result"
    }
   ],
   "source": [
    "a.split(\", \")"
   ]
  },
  {
   "cell_type": "markdown",
   "id": "c0a929e8",
   "metadata": {},
   "source": [
    "## Dictionary"
   ]
  },
  {
   "cell_type": "code",
   "execution_count": 46,
   "id": "31f1afe2",
   "metadata": {},
   "outputs": [],
   "source": [
    "a = {\n",
    "    'cat': 'kucing',\n",
    "    'dog': 'anjing',\n",
    "    'fish': 'ikan',\n",
    "}"
   ]
  },
  {
   "cell_type": "code",
   "execution_count": 47,
   "id": "e4b4fdbf",
   "metadata": {},
   "outputs": [
    {
     "data": {
      "text/plain": [
       "{'cat': 'kucing', 'dog': 'anjing', 'fish': 'ikan'}"
      ]
     },
     "execution_count": 47,
     "metadata": {},
     "output_type": "execute_result"
    }
   ],
   "source": [
    "a"
   ]
  },
  {
   "cell_type": "code",
   "execution_count": 48,
   "id": "84a5a5d4",
   "metadata": {},
   "outputs": [
    {
     "data": {
      "text/plain": [
       "'kucing'"
      ]
     },
     "execution_count": 48,
     "metadata": {},
     "output_type": "execute_result"
    }
   ],
   "source": [
    "a['cat']"
   ]
  },
  {
   "cell_type": "code",
   "execution_count": 49,
   "id": "67da6204",
   "metadata": {},
   "outputs": [],
   "source": [
    "a['bird'] = 'burung'"
   ]
  },
  {
   "cell_type": "code",
   "execution_count": 50,
   "id": "04762188",
   "metadata": {},
   "outputs": [],
   "source": [
    "a['elephant'] = 'gajah'"
   ]
  },
  {
   "cell_type": "code",
   "execution_count": 51,
   "id": "06f89caf",
   "metadata": {},
   "outputs": [
    {
     "data": {
      "text/plain": [
       "{'cat': 'kucing',\n",
       " 'dog': 'anjing',\n",
       " 'fish': 'ikan',\n",
       " 'bird': 'burung',\n",
       " 'elephant': 'gajah'}"
      ]
     },
     "execution_count": 51,
     "metadata": {},
     "output_type": "execute_result"
    }
   ],
   "source": [
    "a"
   ]
  },
  {
   "cell_type": "code",
   "execution_count": 52,
   "id": "871135a3",
   "metadata": {},
   "outputs": [
    {
     "data": {
      "text/plain": [
       "dict_keys(['cat', 'dog', 'fish', 'bird', 'elephant'])"
      ]
     },
     "execution_count": 52,
     "metadata": {},
     "output_type": "execute_result"
    }
   ],
   "source": [
    "a.keys()"
   ]
  },
  {
   "cell_type": "code",
   "execution_count": 53,
   "id": "3a4f3807",
   "metadata": {},
   "outputs": [
    {
     "data": {
      "text/plain": [
       "dict_values(['kucing', 'anjing', 'ikan', 'burung', 'gajah'])"
      ]
     },
     "execution_count": 53,
     "metadata": {},
     "output_type": "execute_result"
    }
   ],
   "source": [
    "a.values()"
   ]
  },
  {
   "cell_type": "code",
   "execution_count": 55,
   "id": "1437f77d",
   "metadata": {},
   "outputs": [],
   "source": [
    "nilai = {'naruto': 40, 'kaneki': 80, 'izuku': 85, 'ayanokouji': 100}"
   ]
  },
  {
   "cell_type": "code",
   "execution_count": 56,
   "id": "86b4cea2",
   "metadata": {},
   "outputs": [
    {
     "data": {
      "text/plain": [
       "{'naruto': 40, 'kaneki': 80, 'izuku': 85, 'ayanokouji': 100}"
      ]
     },
     "execution_count": 56,
     "metadata": {},
     "output_type": "execute_result"
    }
   ],
   "source": [
    "nilai"
   ]
  },
  {
   "cell_type": "code",
   "execution_count": 57,
   "id": "dbea1406",
   "metadata": {},
   "outputs": [],
   "source": [
    "nilai['ayanokouji'] = 90"
   ]
  },
  {
   "cell_type": "code",
   "execution_count": 58,
   "id": "76d2277f",
   "metadata": {},
   "outputs": [
    {
     "data": {
      "text/plain": [
       "{'naruto': 40, 'kaneki': 80, 'izuku': 85, 'ayanokouji': 90}"
      ]
     },
     "execution_count": 58,
     "metadata": {},
     "output_type": "execute_result"
    }
   ],
   "source": [
    "nilai"
   ]
  },
  {
   "cell_type": "markdown",
   "id": "ee65cedb",
   "metadata": {},
   "source": [
    "## Function"
   ]
  },
  {
   "cell_type": "code",
   "execution_count": 59,
   "id": "c34c6790",
   "metadata": {},
   "outputs": [],
   "source": [
    "def jumlah(a, b):\n",
    "    return a + b"
   ]
  },
  {
   "cell_type": "code",
   "execution_count": 60,
   "id": "abd3b369",
   "metadata": {},
   "outputs": [
    {
     "data": {
      "text/plain": [
       "11"
      ]
     },
     "execution_count": 60,
     "metadata": {},
     "output_type": "execute_result"
    }
   ],
   "source": [
    "jumlah(5,6)"
   ]
  },
  {
   "cell_type": "code",
   "execution_count": 61,
   "id": "9e14840d",
   "metadata": {},
   "outputs": [],
   "source": [
    "def kali(a, b):\n",
    "    return a * b"
   ]
  },
  {
   "cell_type": "code",
   "execution_count": 62,
   "id": "9d2e2cbb",
   "metadata": {},
   "outputs": [
    {
     "data": {
      "text/plain": [
       "30"
      ]
     },
     "execution_count": 62,
     "metadata": {},
     "output_type": "execute_result"
    }
   ],
   "source": [
    "kali(5,6)"
   ]
  },
  {
   "cell_type": "code",
   "execution_count": 63,
   "id": "bcadd5ba",
   "metadata": {},
   "outputs": [],
   "source": [
    "def pangkat(a, b):\n",
    "    return a ** b"
   ]
  },
  {
   "cell_type": "code",
   "execution_count": 64,
   "id": "5ed89481",
   "metadata": {},
   "outputs": [
    {
     "data": {
      "text/plain": [
       "15625"
      ]
     },
     "execution_count": 64,
     "metadata": {},
     "output_type": "execute_result"
    }
   ],
   "source": [
    "pangkat(5, 6)"
   ]
  },
  {
   "cell_type": "markdown",
   "id": "25c6ee19",
   "metadata": {},
   "source": [
    "## Conditionals"
   ]
  },
  {
   "cell_type": "code",
   "execution_count": 65,
   "id": "c88255fd",
   "metadata": {},
   "outputs": [],
   "source": [
    "score = 50"
   ]
  },
  {
   "cell_type": "code",
   "execution_count": 9,
   "id": "fb2fd210",
   "metadata": {},
   "outputs": [],
   "source": [
    "def konversi_indeks(indeks):\n",
    "    if 0 <= indeks < 60:\n",
    "        return \"D\"\n",
    "    elif 60 <= indeks < 70:\n",
    "        return \"C\"\n",
    "    elif 70 <= indeks < 80:\n",
    "        return \"B\"\n",
    "    elif 80 <= indeks < 90:\n",
    "        return \"A\"\n",
    "    elif 90 <= indeks <= 100:\n",
    "        return \"S\"\n",
    "    else:\n",
    "        return \"Nilai nya ngaco\""
   ]
  },
  {
   "cell_type": "code",
   "execution_count": 6,
   "id": "b16aac24",
   "metadata": {},
   "outputs": [
    {
     "data": {
      "text/plain": [
       "'C'"
      ]
     },
     "execution_count": 6,
     "metadata": {},
     "output_type": "execute_result"
    }
   ],
   "source": [
    "konversi_indeks(60)"
   ]
  },
  {
   "cell_type": "code",
   "execution_count": 10,
   "id": "f31bfb04",
   "metadata": {},
   "outputs": [
    {
     "data": {
      "text/plain": [
       "'S'"
      ]
     },
     "execution_count": 10,
     "metadata": {},
     "output_type": "execute_result"
    }
   ],
   "source": [
    "konversi_indeks(100)"
   ]
  },
  {
   "cell_type": "code",
   "execution_count": 11,
   "id": "eaaec878",
   "metadata": {},
   "outputs": [
    {
     "data": {
      "text/plain": [
       "'Nilai nya ngaco'"
      ]
     },
     "execution_count": 11,
     "metadata": {},
     "output_type": "execute_result"
    }
   ],
   "source": [
    "konversi_indeks(1234)"
   ]
  },
  {
   "cell_type": "markdown",
   "id": "b49fa9fc",
   "metadata": {},
   "source": [
    "## Iterasi"
   ]
  },
  {
   "cell_type": "code",
   "execution_count": 13,
   "id": "10713dd6",
   "metadata": {},
   "outputs": [],
   "source": [
    "numbers = [1, 2, 3, 4, 5, 6, 7]"
   ]
  },
  {
   "cell_type": "code",
   "execution_count": 15,
   "id": "cdac72cc",
   "metadata": {},
   "outputs": [
    {
     "name": "stdout",
     "output_type": "stream",
     "text": [
      "1\n",
      "2\n",
      "3\n",
      "4\n",
      "5\n",
      "6\n",
      "7\n"
     ]
    }
   ],
   "source": [
    "for n in numbers:\n",
    "    print(n)"
   ]
  },
  {
   "cell_type": "code",
   "execution_count": 18,
   "id": "1528413d",
   "metadata": {},
   "outputs": [
    {
     "name": "stdout",
     "output_type": "stream",
     "text": [
      "Indeks:  D\n",
      "Indeks:  C\n",
      "Indeks:  B\n",
      "Indeks:  A\n",
      "Indeks:  S\n",
      "Indeks:  S\n",
      "Indeks:  Nilai nya ngaco\n"
     ]
    }
   ],
   "source": [
    "for score in [50, 60, 70, 80, 90, 100, 110]:\n",
    "    print(\"Indeks: \", konversi_indeks(score))"
   ]
  },
  {
   "cell_type": "code",
   "execution_count": 19,
   "id": "8b58eb91",
   "metadata": {},
   "outputs": [],
   "source": [
    "animals = ['Cat', 'Fish', 'Dog', 'Elephant', 'Bird']"
   ]
  },
  {
   "cell_type": "code",
   "execution_count": 20,
   "id": "a8a473fd",
   "metadata": {},
   "outputs": [
    {
     "name": "stdout",
     "output_type": "stream",
     "text": [
      "Cat\n",
      "Fish\n",
      "Dog\n",
      "Elephant\n",
      "Bird\n"
     ]
    }
   ],
   "source": [
    "for animal in animals:\n",
    "    print(animal)"
   ]
  },
  {
   "cell_type": "code",
   "execution_count": 22,
   "id": "6dea80ac",
   "metadata": {},
   "outputs": [
    {
     "name": "stdout",
     "output_type": "stream",
     "text": [
      "CAT\n",
      "FISH\n",
      "DOG\n",
      "ELEPHANT\n",
      "BIRD\n"
     ]
    }
   ],
   "source": [
    "for animal in animals:\n",
    "    print(animal.upper())"
   ]
  },
  {
   "cell_type": "code",
   "execution_count": 23,
   "id": "b6a0783f",
   "metadata": {},
   "outputs": [
    {
     "name": "stdout",
     "output_type": "stream",
     "text": [
      "cat\n",
      "fish\n",
      "dog\n",
      "elephant\n",
      "bird\n"
     ]
    }
   ],
   "source": [
    "for animal in animals:\n",
    "    print(animal.lower())"
   ]
  },
  {
   "cell_type": "code",
   "execution_count": 24,
   "id": "634b9c93",
   "metadata": {},
   "outputs": [
    {
     "name": "stdout",
     "output_type": "stream",
     "text": [
      "2\n",
      "4\n",
      "6\n",
      "8\n"
     ]
    }
   ],
   "source": [
    "for angka in range(2, 10, 2):\n",
    "    print(angka)"
   ]
  },
  {
   "cell_type": "code",
   "execution_count": 26,
   "id": "0fe9f477",
   "metadata": {},
   "outputs": [],
   "source": [
    "animals ={\n",
    "    'Cat': 'Kucing',\n",
    "    'Fish': 'Ikan', \n",
    "    'Elephant': 'Gajah',\n",
    "    'Dog': 'Anjing',\n",
    "    'Bird': 'Burung'\n",
    "}"
   ]
  },
  {
   "cell_type": "code",
   "execution_count": 27,
   "id": "73ca1f0e",
   "metadata": {},
   "outputs": [
    {
     "name": "stdout",
     "output_type": "stream",
     "text": [
      "Cat\n",
      "Fish\n",
      "Elephant\n",
      "Dog\n",
      "Bird\n"
     ]
    }
   ],
   "source": [
    "for animal in animals.keys():\n",
    "    print(animal)"
   ]
  },
  {
   "cell_type": "code",
   "execution_count": 28,
   "id": "d3557054",
   "metadata": {},
   "outputs": [
    {
     "name": "stdout",
     "output_type": "stream",
     "text": [
      "Kucing\n",
      "Ikan\n",
      "Gajah\n",
      "Anjing\n",
      "Burung\n"
     ]
    }
   ],
   "source": [
    "for animal in animals.values():\n",
    "    print(animal)"
   ]
  },
  {
   "cell_type": "code",
   "execution_count": 30,
   "id": "80157edf",
   "metadata": {},
   "outputs": [
    {
     "name": "stdout",
     "output_type": "stream",
     "text": [
      "Bahasa Indonesia dari Cat adalah Kucing\n",
      "Bahasa Indonesia dari Fish adalah Ikan\n",
      "Bahasa Indonesia dari Elephant adalah Gajah\n",
      "Bahasa Indonesia dari Dog adalah Anjing\n",
      "Bahasa Indonesia dari Bird adalah Burung\n"
     ]
    }
   ],
   "source": [
    "for animal in animals.keys():\n",
    "    print(f\"Bahasa Indonesia dari {animal} adalah {animals[animal]}\")"
   ]
  },
  {
   "cell_type": "code",
   "execution_count": 35,
   "id": "b6dda15b",
   "metadata": {},
   "outputs": [],
   "source": [
    "a = []"
   ]
  },
  {
   "cell_type": "code",
   "execution_count": 36,
   "id": "6e071472",
   "metadata": {},
   "outputs": [],
   "source": [
    "for angka in range(8):\n",
    "    a.append(angka ** 2)"
   ]
  },
  {
   "cell_type": "code",
   "execution_count": 38,
   "id": "d8248bbf",
   "metadata": {},
   "outputs": [
    {
     "data": {
      "text/plain": [
       "[0, 1, 4, 9, 16, 25, 36, 49]"
      ]
     },
     "execution_count": 38,
     "metadata": {},
     "output_type": "execute_result"
    }
   ],
   "source": [
    "a"
   ]
  },
  {
   "cell_type": "markdown",
   "id": "789a965c",
   "metadata": {},
   "source": [
    "## Python Comprehension"
   ]
  },
  {
   "cell_type": "code",
   "execution_count": 39,
   "id": "ac929480",
   "metadata": {},
   "outputs": [],
   "source": [
    "b = [angka ** 2 for angka in range(10)]"
   ]
  },
  {
   "cell_type": "code",
   "execution_count": 40,
   "id": "46cdd6b4",
   "metadata": {},
   "outputs": [
    {
     "data": {
      "text/plain": [
       "[0, 1, 4, 9, 16, 25, 36, 49, 64, 81]"
      ]
     },
     "execution_count": 40,
     "metadata": {},
     "output_type": "execute_result"
    }
   ],
   "source": [
    "b"
   ]
  },
  {
   "cell_type": "code",
   "execution_count": 41,
   "id": "ba9376af",
   "metadata": {},
   "outputs": [],
   "source": [
    "b = {angka: angka ** 2 for angka in range(10)}"
   ]
  },
  {
   "cell_type": "code",
   "execution_count": 42,
   "id": "baafdc15",
   "metadata": {},
   "outputs": [
    {
     "data": {
      "text/plain": [
       "{0: 0, 1: 1, 2: 4, 3: 9, 4: 16, 5: 25, 6: 36, 7: 49, 8: 64, 9: 81}"
      ]
     },
     "execution_count": 42,
     "metadata": {},
     "output_type": "execute_result"
    }
   ],
   "source": [
    "b"
   ]
  },
  {
   "cell_type": "code",
   "execution_count": 43,
   "id": "7bce5244",
   "metadata": {},
   "outputs": [
    {
     "data": {
      "text/plain": [
       "{1, 2, 3, 4, 5}"
      ]
     },
     "execution_count": 43,
     "metadata": {},
     "output_type": "execute_result"
    }
   ],
   "source": [
    "{1, 1, 2, 2, 3, 3, 4, 4, 5, 5}"
   ]
  }
 ],
 "metadata": {
  "kernelspec": {
   "display_name": "Python 3",
   "language": "python",
   "name": "python3"
  },
  "language_info": {
   "codemirror_mode": {
    "name": "ipython",
    "version": 3
   },
   "file_extension": ".py",
   "mimetype": "text/x-python",
   "name": "python",
   "nbconvert_exporter": "python",
   "pygments_lexer": "ipython3",
   "version": "3.9.1"
  }
 },
 "nbformat": 4,
 "nbformat_minor": 5
}
