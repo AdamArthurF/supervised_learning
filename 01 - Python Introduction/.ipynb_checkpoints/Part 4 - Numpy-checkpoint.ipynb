{
 "cells": [
  {
   "cell_type": "markdown",
   "metadata": {},
   "source": [
    "# PyPI vs Conda\n",
    "PyPI\n",
    "- Official 3rd party Python Repository\n",
    "- Instalasi menggunakan pip\n",
    "    - untuk install >> `pip install <nama_package>`\n",
    "    - untuk install versi tertentu >> `pip install <nama_package>==<versi>`\n",
    "    \n",
    "Conda\n",
    "- open-source package management system\n",
    "- Instalasi menggunakan conda\n",
    "    - untuk install >> `conda install <nama_package>`\n",
    "    - untuk install versi tertentu >> `conda install <nama_package>==<versi>`\n",
    "    \n",
    "# Membuat Conda Environment (Python)\n",
    "Cara untuk membuat conda environment dengan package python 3.6<br>\n",
    "`conda create --name <nama_env> python=3.6`\n",
    "\n",
    "apabila tidak diisi package, maka akan dibuat sebuah environment kosong<br>\n",
    "`conda create --name <nama_env>`\n",
    "\n",
    "# Kenapa kita butuh environment\n",
    "- environment bawaan (base) tidak dapat dihapus apabila terjadi konflik saat instalasi sehingga sisa-sisa kesalahan instalasi akan tertinggal di base dan sulit untuk kita bersihkan\n",
    "- ketika kesalahan terjadi di environment terpisah, maka dengan mudah kita dapat menghapus environment tersebut dan tidak akan ada yang tersisa\n",
    "- environment mudah dibagikan sehingga dapat membantu kerjasama untuk mengerjakan suatu projek dalam sebuah tim\n",
    "\n",
    "# Informasi Environment\n",
    "Untuk mengecek ada package apa saja di dalam environment<br>\n",
    "`conda list --name <nama_env>`\n",
    "\n",
    "Untuk mengecek sudah ada environment apa saja<br>\n",
    "`conda env list`\n",
    "\n",
    "# Batch installation\n",
    "Apabila ingin menginstall banyak package sekaligus\n",
    "\n",
    "PIP\n",
    "- membutuhkan file yang isinya semua package yang ingin diinstall\n",
    "- secara konvensi nama file nya adalah `requirements.txt`\n",
    "- command >> `pip install -r file_requirements_nya`\n",
    "\n",
    "conda\n",
    "- membutuhkan file yang isinya informasi environment\n",
    "- secara konvensi nama file nya adalah `environment.yml`\n",
    "- instalasi semua package dan sekaligus membuat environment\n",
    "- command >> `conda env create -f file_environment_nya`\n",
    "\n",
    "# Menghapus environment conda\n",
    "`conda env remove --name <nama_env>`\n",
    "\n",
    "# Tips 1: Anaconda vs Miniconda\n",
    "- miniconda adalah versi minimalis dari anaconda\n",
    "- anaconda sudah termasuk sekitar 720 package data science yang umum dipakai (~3GB) dan semua package tersebut diinstall di base environment\n",
    "- miniconda hanya terdiri atas conda dan python. Kita bahkan bisa memiliki anaconda sebagai environment terpisah dengan menjadikan anaconda sebagai basisnya >> `conda create --name <nama_env> anaconda`\n",
    "\n",
    "# Tips 2: Integrasi conda environment dengan jupyter\n",
    "- install `jupyter` dan `nb_conda_kernels` di base, dan hanya kedua package itulah yang akan kita install di base\n",
    "- selalu membuat environment untuk masing-masing projek, setelah projek selesai kita selalu dapat menghapus environment tersebut (beserta package di dalamnya)\n",
    "- di dalam masing-masing environment, tambahkanlah `nb_conda_kernels`\n",
    "- dengan adanya `nb_conda_kernels`, kita dapat mengakses semua environment kita dari dalam jupyter tanpa perlu mengaktivasi environment melalui terminal\n",
    "\n",
    "# Tips 3: Dokumentasikan dengan baik\n",
    "- selalu menyimpan dan update file `requirements.txt` atau `environment.yml` di folder project masing-masing supaya dapat menginstall environment tersebut kembali suatu saat ketika dibutuhkan\n",
    "\n",
    "# Cheat sheet\n",
    "```\n",
    "pip install <nama_package>\n",
    "pip install <nama_package>==<versi>\n",
    "pip install -r requirements.txt\n",
    "\n",
    "conda create --name <nama_env> <nama_package>\n",
    "\n",
    "conda install --name <nama_env> <nama_package>==<versi>\n",
    "conda list --name <nama_env>\n",
    "conda env list\n",
    "\n",
    "conda env create -f environment.yml\n",
    "conda env remove --name <nama_env>\n",
    "```"
   ]
  },
  {
   "cell_type": "markdown",
   "metadata": {},
   "source": [
    "# Numerical Python (Numpy)"
   ]
  },
  {
   "cell_type": "code",
   "execution_count": 2,
   "metadata": {},
   "outputs": [],
   "source": [
    "import numpy as np"
   ]
  },
  {
   "cell_type": "code",
   "execution_count": 3,
   "metadata": {},
   "outputs": [],
   "source": [
    "a = np.array([1,2,3])"
   ]
  },
  {
   "cell_type": "code",
   "execution_count": 4,
   "metadata": {},
   "outputs": [
    {
     "data": {
      "text/plain": [
       "array([3, 6, 9])"
      ]
     },
     "execution_count": 4,
     "metadata": {},
     "output_type": "execute_result"
    }
   ],
   "source": [
    "a * 3"
   ]
  },
  {
   "cell_type": "markdown",
   "metadata": {},
   "source": [
    "# Math Function"
   ]
  },
  {
   "cell_type": "code",
   "execution_count": 5,
   "metadata": {},
   "outputs": [
    {
     "data": {
      "text/plain": [
       "6"
      ]
     },
     "execution_count": 5,
     "metadata": {},
     "output_type": "execute_result"
    }
   ],
   "source": [
    "np.sum(a)"
   ]
  },
  {
   "cell_type": "code",
   "execution_count": 6,
   "metadata": {},
   "outputs": [
    {
     "data": {
      "text/plain": [
       "2.0"
      ]
     },
     "execution_count": 6,
     "metadata": {},
     "output_type": "execute_result"
    }
   ],
   "source": [
    "np.mean(a)"
   ]
  },
  {
   "cell_type": "code",
   "execution_count": 7,
   "metadata": {},
   "outputs": [
    {
     "data": {
      "text/plain": [
       "0.816496580927726"
      ]
     },
     "execution_count": 7,
     "metadata": {},
     "output_type": "execute_result"
    }
   ],
   "source": [
    "np.std(a)"
   ]
  },
  {
   "cell_type": "code",
   "execution_count": 8,
   "metadata": {},
   "outputs": [
    {
     "data": {
      "text/plain": [
       "array([0.84147098, 0.90929743, 0.14112001])"
      ]
     },
     "execution_count": 8,
     "metadata": {},
     "output_type": "execute_result"
    }
   ],
   "source": [
    "np.sin(a)"
   ]
  },
  {
   "cell_type": "markdown",
   "metadata": {},
   "source": [
    "# arange, linspace, logspace"
   ]
  },
  {
   "cell_type": "code",
   "execution_count": 10,
   "metadata": {},
   "outputs": [
    {
     "data": {
      "text/plain": [
       "array([1. , 2.5, 4. ])"
      ]
     },
     "execution_count": 10,
     "metadata": {},
     "output_type": "execute_result"
    }
   ],
   "source": [
    "np.arange(1,5,1.5)"
   ]
  },
  {
   "cell_type": "code",
   "execution_count": 11,
   "metadata": {},
   "outputs": [
    {
     "data": {
      "text/plain": [
       "array([ 0. ,  2.5,  5. ,  7.5, 10. ])"
      ]
     },
     "execution_count": 11,
     "metadata": {},
     "output_type": "execute_result"
    }
   ],
   "source": [
    "np.linspace(0, 10, 5)"
   ]
  },
  {
   "cell_type": "code",
   "execution_count": 12,
   "metadata": {},
   "outputs": [
    {
     "data": {
      "text/plain": [
       "array([1.e-03, 1.e-02, 1.e-01, 1.e+00, 1.e+01, 1.e+02, 1.e+03])"
      ]
     },
     "execution_count": 12,
     "metadata": {},
     "output_type": "execute_result"
    }
   ],
   "source": [
    "np.logspace(-3, 3, 7)"
   ]
  },
  {
   "cell_type": "markdown",
   "metadata": {},
   "source": [
    "# random"
   ]
  },
  {
   "cell_type": "code",
   "execution_count": 29,
   "metadata": {},
   "outputs": [
    {
     "data": {
      "text/plain": [
       "array([[0.87125443, 0.5680063 , 0.60043091, 0.53693083, 0.80544876],\n",
       "       [0.84435948, 0.56721102, 0.73380674, 0.04879021, 0.0631753 ],\n",
       "       [0.62759308, 0.78505984, 0.1716751 , 0.2916473 , 0.80511637],\n",
       "       [0.35587006, 0.75305992, 0.20104963, 0.23556033, 0.55519876]])"
      ]
     },
     "execution_count": 29,
     "metadata": {},
     "output_type": "execute_result"
    }
   ],
   "source": [
    "np.random.rand(4,5)"
   ]
  },
  {
   "cell_type": "markdown",
   "metadata": {},
   "source": [
    "# Controlled Randomness"
   ]
  },
  {
   "cell_type": "code",
   "execution_count": 77,
   "metadata": {},
   "outputs": [
    {
     "data": {
      "text/plain": [
       "array([0.37454012, 0.95071431, 0.73199394])"
      ]
     },
     "execution_count": 77,
     "metadata": {},
     "output_type": "execute_result"
    }
   ],
   "source": [
    "state = np.random.RandomState(42)\n",
    "state.rand(3)"
   ]
  },
  {
   "cell_type": "code",
   "execution_count": null,
   "metadata": {},
   "outputs": [],
   "source": []
  }
 ],
 "metadata": {
  "kernelspec": {
   "display_name": "Python [conda env:coba_env]",
   "language": "python",
   "name": "conda-env-coba_env-py"
  },
  "language_info": {
   "codemirror_mode": {
    "name": "ipython",
    "version": 3
   },
   "file_extension": ".py",
   "mimetype": "text/x-python",
   "name": "python",
   "nbconvert_exporter": "python",
   "pygments_lexer": "ipython3",
   "version": "3.6.13"
  }
 },
 "nbformat": 4,
 "nbformat_minor": 4
}
